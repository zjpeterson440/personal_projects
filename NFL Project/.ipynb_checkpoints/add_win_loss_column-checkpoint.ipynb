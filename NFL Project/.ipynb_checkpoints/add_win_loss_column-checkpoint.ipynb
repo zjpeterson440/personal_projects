{
 "cells": [
  {
   "cell_type": "code",
   "execution_count": 83,
   "id": "106c05e5",
   "metadata": {},
   "outputs": [],
   "source": [
    "import pandas as pd\n",
    "import numpy as np"
   ]
  },
  {
   "cell_type": "code",
   "execution_count": 84,
   "id": "2e2d1555",
   "metadata": {},
   "outputs": [],
   "source": [
    "weather = pd.read_csv('qb_for_analysis.csv')"
   ]
  },
  {
   "cell_type": "code",
   "execution_count": 85,
   "id": "431d9964",
   "metadata": {},
   "outputs": [],
   "source": [
    "#Converts results into 1/0 win loss values\n",
    "result=[]\n",
    "for i in range(len(weather)):\n",
    "    if weather['Result'].iloc[i][0]=='W':\n",
    "        result.append(1)\n",
    "    else:\n",
    "        result.append(0)\n",
    "        \n",
    "weather['win_loss'] = result\n",
    "\n",
    "margin = []\n",
    "for i in range(len(weather)):\n",
    "    if weather['Result'].iloc[i][0]=='W':\n",
    "        result.append(1)\n",
    "    else:\n",
    "        result.append(0)\n",
    "        \n",
    "weather['win_loss'] = result"
   ]
  },
  {
   "cell_type": "code",
   "execution_count": 88,
   "id": "0ad0e4f3",
   "metadata": {},
   "outputs": [],
   "source": [
    "weather.drop(['DewPoint', 'Pressure', 'Result','Opp','GameLoc','StadiumName'], axis=1, inplace=True)"
   ]
  },
  {
   "cell_type": "code",
   "execution_count": 90,
   "id": "a28c5a7b",
   "metadata": {},
   "outputs": [],
   "source": [
    "weather.to_csv('numbers.csv',index=False)"
   ]
  }
 ],
 "metadata": {
  "kernelspec": {
   "display_name": "Python 3 (ipykernel)",
   "language": "python",
   "name": "python3"
  },
  "language_info": {
   "codemirror_mode": {
    "name": "ipython",
    "version": 3
   },
   "file_extension": ".py",
   "mimetype": "text/x-python",
   "name": "python",
   "nbconvert_exporter": "python",
   "pygments_lexer": "ipython3",
   "version": "3.9.12"
  }
 },
 "nbformat": 4,
 "nbformat_minor": 5
}
